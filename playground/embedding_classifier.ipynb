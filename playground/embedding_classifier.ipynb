{
 "cells": [
  {
   "cell_type": "code",
   "execution_count": 24,
   "metadata": {},
   "outputs": [],
   "source": [
    "import numpy as np\n",
    "from sklearn.manifold import TSNE\n"
   ]
  },
  {
   "cell_type": "code",
   "execution_count": 25,
   "metadata": {},
   "outputs": [],
   "source": [
    "from sklearn.model_selection import train_test_split"
   ]
  },
  {
   "cell_type": "code",
   "execution_count": 27,
   "metadata": {},
   "outputs": [],
   "source": [
    "# load data here\n",
    "real_values = np.load(\"../modelling/real_dev_embeddings.npy\")\n",
    "debris_anomalous_values = np.load(\"../modelling/anomalous_dev_embeddings.npy\")\n",
    "speed_lim_anomalous_values = np.load(\"../modelling/anomalous_tlsl_dev_embeddings2.npy\")\n",
    "speed_lim_anomalous_values2 = np.load(\"../modelling/anomalous_tlsl2_dev_embeddings.npy\")"
   ]
  },
  {
   "cell_type": "code",
   "execution_count": 28,
   "metadata": {},
   "outputs": [],
   "source": [
    "def getTSNE(real_values, anomalous_values):\n",
    "    tsne = TSNE(n_components=2, verbose=1, perplexity=50, n_iter=500)\n",
    "    tsne_result_real = tsne.fit_transform(real_values)\n",
    "    tsne_result_anom = tsne.fit_transform(anomalous_values)\n",
    "    X2 = np.vstack([tsne_result_real,tsne_result_anom])\n",
    "    Y2 = np.hstack([np.zeros((tsne_result_real.shape[0])),np.ones((tsne_result_anom.shape[0]))])\n",
    "#     plt.figure(figsize=(16,10))\n",
    "    return X2,Y2"
   ]
  },
  {
   "cell_type": "markdown",
   "metadata": {},
   "source": [
    "# Using the TSNE Embeddings"
   ]
  },
  {
   "cell_type": "code",
   "execution_count": 38,
   "metadata": {},
   "outputs": [
    {
     "name": "stdout",
     "output_type": "stream",
     "text": [
      "[t-SNE] Computing 120 nearest neighbors...\n",
      "[t-SNE] Indexed 121 samples in 0.000s...\n",
      "[t-SNE] Computed neighbors for 121 samples in 0.007s...\n",
      "[t-SNE] Computed conditional probabilities for sample 121 / 121\n",
      "[t-SNE] Mean sigma: 4857.925895\n",
      "[t-SNE] KL divergence after 250 iterations with early exaggeration: 52.352730\n",
      "[t-SNE] KL divergence after 500 iterations: 0.149732\n",
      "[t-SNE] Computing 127 nearest neighbors...\n",
      "[t-SNE] Indexed 128 samples in 0.000s...\n",
      "[t-SNE] Computed neighbors for 128 samples in 0.003s...\n",
      "[t-SNE] Computed conditional probabilities for sample 128 / 128\n",
      "[t-SNE] Mean sigma: 3398.872754\n",
      "[t-SNE] KL divergence after 250 iterations with early exaggeration: 52.116566\n",
      "[t-SNE] KL divergence after 500 iterations: 0.075314\n"
     ]
    },
    {
     "name": "stderr",
     "output_type": "stream",
     "text": [
      "/home/tarang/anaconda3/envs/argoverse/lib/python3.7/site-packages/sklearn/neural_network/_multilayer_perceptron.py:500: ConvergenceWarning: lbfgs failed to converge (status=1):\n",
      "STOP: TOTAL NO. of ITERATIONS REACHED LIMIT.\n",
      "\n",
      "Increase the number of iterations (max_iter) or scale the data as shown in:\n",
      "    https://scikit-learn.org/stable/modules/preprocessing.html\n",
      "  self.n_iter_ = _check_optimize_result(\"lbfgs\", opt_res, self.max_iter)\n"
     ]
    },
    {
     "data": {
      "text/plain": [
       "0.9067"
      ]
     },
     "execution_count": 38,
     "metadata": {},
     "output_type": "execute_result"
    }
   ],
   "source": [
    "# pca = PCA(n_components=2)\n",
    "# pca_result_real = pca.fit_transform(real_values)\n",
    "# pca_result_anom = pca.fit_transform(anomalous_values)\n",
    "# X = np.vstack([real_values,anomalous_values])\n",
    "# Y = np.hstack([np.zeros((real_values.shape[0])),np.ones((anomalous_values.shape[0]))])\n",
    "X, Y= getTSNE(real_values,debris_anomalous_values)\n",
    "\n",
    "X_train, X_test, y_train, y_test = train_test_split(X, Y, test_size=0.3, random_state=42)\n",
    "X_train.shape, X_test.shape, y_train.shape, y_test.shape \n",
    "\n",
    "from sklearn.neural_network import MLPClassifier\n",
    "NN = MLPClassifier(solver='lbfgs', alpha=1e-5, hidden_layer_sizes=(150, 120, 90, 60), random_state=1,learning_rate='adaptive',max_iter=500).fit(X_train, y_train)\n",
    "NN.predict(X_test)\n",
    "round(NN.score(X_test, y_test), 4)"
   ]
  },
  {
   "cell_type": "markdown",
   "metadata": {},
   "source": [
    "# Just the 1024 Embeddings"
   ]
  },
  {
   "cell_type": "code",
   "execution_count": 39,
   "metadata": {},
   "outputs": [
    {
     "name": "stderr",
     "output_type": "stream",
     "text": [
      "/home/tarang/anaconda3/envs/argoverse/lib/python3.7/site-packages/sklearn/neural_network/_multilayer_perceptron.py:500: ConvergenceWarning: lbfgs failed to converge (status=1):\n",
      "STOP: TOTAL NO. of ITERATIONS REACHED LIMIT.\n",
      "\n",
      "Increase the number of iterations (max_iter) or scale the data as shown in:\n",
      "    https://scikit-learn.org/stable/modules/preprocessing.html\n",
      "  self.n_iter_ = _check_optimize_result(\"lbfgs\", opt_res, self.max_iter)\n"
     ]
    },
    {
     "data": {
      "text/plain": [
       "0.8"
      ]
     },
     "execution_count": 39,
     "metadata": {},
     "output_type": "execute_result"
    }
   ],
   "source": [
    "X = np.vstack([real_values,debris_anomalous_values])\n",
    "Y = np.hstack([np.zeros((real_values.shape[0])),np.ones((anomalous_values.shape[0]))])\n",
    "X_train, X_test, y_train, y_test = train_test_split(X, Y, test_size=0.3, random_state=42)\n",
    "X_train.shape, X_test.shape, y_train.shape, y_test.shape \n",
    "\n",
    "from sklearn.neural_network import MLPClassifier\n",
    "NN = MLPClassifier(solver='lbfgs', alpha=1e-5, hidden_layer_sizes=(150, 120, 90, 60), random_state=1,learning_rate='adaptive',max_iter=500).fit(X_train, y_train)\n",
    "NN.predict(X_test)\n",
    "round(NN.score(X_test, y_test), 4)"
   ]
  },
  {
   "cell_type": "code",
   "execution_count": null,
   "metadata": {},
   "outputs": [],
   "source": []
  },
  {
   "cell_type": "markdown",
   "metadata": {},
   "source": [
    "# Speed Limit Anomalous Data"
   ]
  },
  {
   "cell_type": "code",
   "execution_count": 40,
   "metadata": {},
   "outputs": [
    {
     "name": "stdout",
     "output_type": "stream",
     "text": [
      "[t-SNE] Computing 120 nearest neighbors...\n",
      "[t-SNE] Indexed 121 samples in 0.000s...\n",
      "[t-SNE] Computed neighbors for 121 samples in 0.003s...\n",
      "[t-SNE] Computed conditional probabilities for sample 121 / 121\n",
      "[t-SNE] Mean sigma: 4857.925895\n",
      "[t-SNE] KL divergence after 250 iterations with early exaggeration: 52.060780\n",
      "[t-SNE] KL divergence after 500 iterations: 0.109616\n",
      "[t-SNE] Computing 151 nearest neighbors...\n",
      "[t-SNE] Indexed 301 samples in 0.000s...\n",
      "[t-SNE] Computed neighbors for 301 samples in 0.028s...\n",
      "[t-SNE] Computed conditional probabilities for sample 301 / 301\n",
      "[t-SNE] Mean sigma: 275.240520\n",
      "[t-SNE] KL divergence after 250 iterations with early exaggeration: 57.009598\n",
      "[t-SNE] KL divergence after 500 iterations: 0.182512\n"
     ]
    },
    {
     "data": {
      "text/plain": [
       "0.937"
      ]
     },
     "execution_count": 40,
     "metadata": {},
     "output_type": "execute_result"
    }
   ],
   "source": [
    "# pca = PCA(n_components=2)\n",
    "# pca_result_real = pca.fit_transform(real_values)\n",
    "# pca_result_anom = pca.fit_transform(anomalous_values)\n",
    "# X = np.vstack([real_values,anomalous_values])\n",
    "# Y = np.hstack([np.zeros((real_values.shape[0])),np.ones((anomalous_values.shape[0]))])\n",
    "X, Y= getTSNE(real_values,speed_lim_anomalous_values)\n",
    "\n",
    "X_train, X_test, y_train, y_test = train_test_split(X, Y, test_size=0.3, random_state=42)\n",
    "X_train.shape, X_test.shape, y_train.shape, y_test.shape \n",
    "\n",
    "from sklearn.neural_network import MLPClassifier\n",
    "NN = MLPClassifier(solver='lbfgs', alpha=1e-5, hidden_layer_sizes=(150, 120, 90, 60), random_state=1,learning_rate='adaptive',max_iter=500).fit(X_train, y_train)\n",
    "NN.predict(X_test)\n",
    "round(NN.score(X_test, y_test), 4)"
   ]
  },
  {
   "cell_type": "code",
   "execution_count": null,
   "metadata": {},
   "outputs": [],
   "source": []
  }
 ],
 "metadata": {
  "kernelspec": {
   "display_name": "Python (Argoverse)",
   "language": "python",
   "name": "my_env"
  },
  "language_info": {
   "codemirror_mode": {
    "name": "ipython",
    "version": 3
   },
   "file_extension": ".py",
   "mimetype": "text/x-python",
   "name": "python",
   "nbconvert_exporter": "python",
   "pygments_lexer": "ipython3",
   "version": "3.7.3"
  }
 },
 "nbformat": 4,
 "nbformat_minor": 4
}
